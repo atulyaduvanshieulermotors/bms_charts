{
 "cells": [
  {
   "cell_type": "code",
   "execution_count": 16,
   "id": "d6c494f0",
   "metadata": {},
   "outputs": [
    {
     "ename": "NameError",
     "evalue": "name 'connect_to_can' is not defined",
     "output_type": "error",
     "traceback": [
      "\u001b[0;31m---------------------------------------------------------------------------\u001b[0m",
      "\u001b[0;31mNameError\u001b[0m                                 Traceback (most recent call last)",
      "Input \u001b[0;32mIn [16]\u001b[0m, in \u001b[0;36m<cell line: 5>\u001b[0;34m()\u001b[0m\n\u001b[1;32m      1\u001b[0m get_ipython()\u001b[38;5;241m.\u001b[39mrun_line_magic(\u001b[38;5;124m'\u001b[39m\u001b[38;5;124mmatplotlib\u001b[39m\u001b[38;5;124m'\u001b[39m, \u001b[38;5;124m'\u001b[39m\u001b[38;5;124mnotebook\u001b[39m\u001b[38;5;124m'\u001b[39m)\n\u001b[1;32m      3\u001b[0m can_msg \u001b[38;5;241m=\u001b[39m []\n\u001b[0;32m----> 5\u001b[0m can_bus \u001b[38;5;241m=\u001b[39m \u001b[43mconnect_to_can\u001b[49m()\n\u001b[1;32m      7\u001b[0m write_to_can \u001b[38;5;241m=\u001b[39m write_to_can(can_bus, can_msg)\n",
      "\u001b[0;31mNameError\u001b[0m: name 'connect_to_can' is not defined"
     ]
    }
   ],
   "source": [
    "%matplotlib notebook\n",
    "\n",
    "can_msg = []\n",
    "\n",
    "can_bus = connect_to_can()\n",
    "\n",
    "write_to_can = write_to_can(can_bus, can_msg)"
   ]
  },
  {
   "cell_type": "code",
   "execution_count": null,
   "id": "634834f8",
   "metadata": {},
   "outputs": [],
   "source": [
    "%matplotlib notebook\n",
    "%run make_charts.py"
   ]
  },
  {
   "cell_type": "code",
   "execution_count": null,
   "id": "b9a14171",
   "metadata": {},
   "outputs": [],
   "source": []
  },
  {
   "cell_type": "code",
   "execution_count": null,
   "id": "8bb5f388",
   "metadata": {},
   "outputs": [],
   "source": []
  }
 ],
 "metadata": {
  "kernelspec": {
   "display_name": "Python 3 (ipykernel)",
   "language": "python",
   "name": "python3"
  },
  "language_info": {
   "codemirror_mode": {
    "name": "ipython",
    "version": 3
   },
   "file_extension": ".py",
   "mimetype": "text/x-python",
   "name": "python",
   "nbconvert_exporter": "python",
   "pygments_lexer": "ipython3",
   "version": "3.8.10"
  }
 },
 "nbformat": 4,
 "nbformat_minor": 5
}
